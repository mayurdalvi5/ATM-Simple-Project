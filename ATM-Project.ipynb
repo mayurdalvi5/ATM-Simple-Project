{
 "cells": [
  {
   "cell_type": "code",
   "execution_count": 14,
   "id": "cfe5336a",
   "metadata": {},
   "outputs": [],
   "source": [
    "class Atm:\n",
    "    #constructor\n",
    "\n",
    "    def __init__(self):\n",
    "        self.pin=''\n",
    "        self.balance = 0\n",
    "\n",
    "        self.menu()\n",
    "\n",
    "    def menu(self):\n",
    "        \n",
    "        user_input = input(''' \n",
    "                1. Enter 1 to set pin\n",
    "                2. Enter 2 to deposit money\n",
    "                3. Enter 3 to withdraw money\n",
    "                4. Enter 4 to check Blance\n",
    "                5. Enter 5 to Exit\n",
    "        ''')\n",
    "\n",
    "        if user_input == '1':\n",
    "            self.set_pin()\n",
    "\n",
    "\n",
    "        elif user_input =='2':\n",
    "            self.deposit()\n",
    "\n",
    "        elif user_input == '3':\n",
    "            self.withdraw()\n",
    "\n",
    "        elif user_input =='4':\n",
    "            self.Check_blance()\n",
    "        else:\n",
    "            print(\"Exit\")\n",
    "\n",
    "\n",
    "    def set_pin(self):\n",
    "        self.pin = input('Enter your Pin:')\n",
    "        print(\"Pin Set Successfully\")\n",
    "\n",
    "    def deposit(self):\n",
    "        temp = input(\"Enter your pin:\")\n",
    "        if temp== self.pin:\n",
    "            amount = int(input(\"Enter the Amount:\"))\n",
    "            self.balance = self.balance + amount\n",
    "            print(\"Sucessful Transation\")\n",
    "        else:\n",
    "            print(\"Invalid Pin\")\n",
    "\n",
    "    def withdraw(self):\n",
    "        temp = input(\"Enter your pin:\")\n",
    "        if temp== self.pin:\n",
    "            amount = int(input(\"Enter the Amount:\"))\n",
    "            self.balance = self.balance - amount\n",
    "            print(\"Sucessful Transation\")\n",
    "        else:\n",
    "            print(\"Invalid Pin\")\n",
    "\n",
    "    def Check_blance(self):\n",
    "        temp = input(\"Enter your pin:\")\n",
    "        if temp== self.pin:\n",
    "            print('Current Blance :',self.balance)\n",
    "        else:\n",
    "            print('Invalid Pin')"
   ]
  },
  {
   "cell_type": "code",
   "execution_count": 15,
   "id": "c9c3b6bc",
   "metadata": {},
   "outputs": [
    {
     "name": "stdout",
     "output_type": "stream",
     "text": [
      " \n",
      "                1. Enter 1 to set pin\n",
      "                2. Enter 2 to deposit money\n",
      "                3. Enter 3 to withdraw money\n",
      "                4. Enter 4 to check Blance\n",
      "                5. Enter 5 to Exit\n",
      "        1\n",
      "Enter your Pin:1234\n",
      "Pin Set Successfully\n"
     ]
    }
   ],
   "source": [
    "sbi =Atm()"
   ]
  },
  {
   "cell_type": "code",
   "execution_count": 16,
   "id": "8c745a41",
   "metadata": {},
   "outputs": [
    {
     "name": "stdout",
     "output_type": "stream",
     "text": [
      "Enter your pin:1234\n",
      "Enter the Amount:10000\n",
      "Sucessful Transation\n"
     ]
    }
   ],
   "source": [
    "sbi.deposit()"
   ]
  },
  {
   "cell_type": "code",
   "execution_count": 18,
   "id": "20c649aa",
   "metadata": {},
   "outputs": [
    {
     "name": "stdout",
     "output_type": "stream",
     "text": [
      "Enter your pin:1234\n",
      "Enter the Amount:5000\n",
      "Sucessful Transation\n"
     ]
    }
   ],
   "source": [
    "sbi.withdraw()"
   ]
  },
  {
   "cell_type": "code",
   "execution_count": 20,
   "id": "671f0c9f",
   "metadata": {},
   "outputs": [
    {
     "name": "stdout",
     "output_type": "stream",
     "text": [
      "Enter your pin:1234\n",
      "Current Blance : 5000\n"
     ]
    }
   ],
   "source": [
    "sbi.Check_blance()"
   ]
  },
  {
   "cell_type": "code",
   "execution_count": null,
   "id": "59d318b0",
   "metadata": {},
   "outputs": [],
   "source": []
  }
 ],
 "metadata": {
  "kernelspec": {
   "display_name": "Python 3 (ipykernel)",
   "language": "python",
   "name": "python3"
  },
  "language_info": {
   "codemirror_mode": {
    "name": "ipython",
    "version": 3
   },
   "file_extension": ".py",
   "mimetype": "text/x-python",
   "name": "python",
   "nbconvert_exporter": "python",
   "pygments_lexer": "ipython3",
   "version": "3.9.7"
  }
 },
 "nbformat": 4,
 "nbformat_minor": 5
}
